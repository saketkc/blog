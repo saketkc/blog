{
 "cells": [
  {
   "cell_type": "code",
   "execution_count": 1,
   "id": "1fc0176e-6769-46cd-a1d2-4b57e58df16f",
   "metadata": {},
   "outputs": [
    {
     "name": "stderr",
     "output_type": "stream",
     "text": [
      "Loading required package: slam\n",
      "\n",
      "Loading required package: sparsesvd\n",
      "\n"
     ]
    }
   ],
   "source": [
    "library(Matrix)\n",
    "library(qlcMatrix)\n",
    "set.seed(42)\n",
    "#' Replace non-zero entries in a sparse entries with non-zero ranks\n",
    "#'\n",
    "#' This method creates a rank matrix for a sparse matrix X using the following approach:\n",
    "#' 1. Use non-zero enries in a column to calculate the ranks\n",
    "#' 2. Add (z-1)/2 to the ranks (only non-zero entries are changed). z is the number of zeros\n",
    "#' in the column\n",
    "#' Since all the entries are shifted by the same constant (the zeros\n",
    "#' are already shifted), the covariance matrix of this shifted matrix is\n",
    "#' the same as the rank matrix of the entire matrix (where the zeros would\n",
    "#' all also have a rank = (z+1)/2) where z is the number of zeros\n",
    "#'\n",
    "#' This rank matrix can then be used to calculate pearson correlation\n",
    "#' (pearson correlation )\n",
    "SparsifiedRanks <- function(X) {\n",
    "  X <- as(object = X, Class = \"dgCMatrix\")\n",
    "  j <- summary(object = X)$j\n",
    "  n_zeros_per_col <- nrow(X) - diff(X@p)\n",
    "\n",
    "  for (column in unique(x = j)) {\n",
    "    non_zero_element_index <- which(j == column)\n",
    "    elements_along_row <- X@x[non_zero_element_index]\n",
    "    ranks <- rank(elements_along_row)\n",
    "    ranks <- ranks + (n_zeros_per_col[column] - 1) / 2\n",
    "    X@x[non_zero_element_index] <- ranks\n",
    "  }\n",
    "  return(X)\n",
    "}\n",
    "SparseSpearmanCor <- function(X, Y = NULL, cov = FALSE) {\n",
    "\n",
    "  # Get sparsified ranks\n",
    "  rankX <- SparsifiedRanks(X)\n",
    "  if (is.null(Y)){\n",
    "    # Calculate pearson correlation on rank matrices\n",
    "    return (corSparse(X=rankX, cov=cov))\n",
    "    }\n",
    "  rankY <- SparsifiedRanks(Y)\n",
    "  return(corSparse( X = rankX, Y = rankY, cov = cov))\n",
    "}\n",
    "\n",
    "########################\n",
    "SparsifiedRanks2 <- function(X) {\n",
    "  if (class(X.sparse)[1] != \"dgCMatrix\") {\n",
    "    X <- as(object = X, Class = \"dgCMatrix\")\n",
    "  }\n",
    "  non_zeros_per_col <- diff(x = X@p)\n",
    "  n_zeros_per_col <- nrow(x = X) - non_zeros_per_col\n",
    "  offsets <- (n_zeros_per_col - 1) / 2\n",
    "  x <- X@x\n",
    "  ## split entries to columns\n",
    "  col_lst <- split(x = x, f = rep.int(1:ncol(X), non_zeros_per_col))\n",
    "  ## calculate sparsified ranks and do shifting\n",
    "  sparsified_ranks <- unlist(x = lapply(X = seq_along(col_lst), \n",
    "                                        FUN = function(i) rank(x = col_lst[[i]]) + offsets[i]))\n",
    "  ## Create template rank matrix\n",
    "  X.ranks <- X\n",
    "  X.ranks@x <- sparsified_ranks\n",
    "  return(X.ranks)\n",
    "}\n",
    "\n",
    "\n",
    "\n",
    "SparseSpearmanCor2 <- function(X, Y = NULL, cov = FALSE) {\n",
    "\n",
    "  # Get sparsified ranks\n",
    "  rankX <- SparsifiedRanks2(X)\n",
    "  if (is.null(Y)){\n",
    "    # Calculate pearson correlation on rank matrices\n",
    "    return (corSparse(X=rankX, cov=cov))\n",
    "    }\n",
    "  rankY <- SparsifiedRanks2(Y)\n",
    "  return(corSparse( X = rankX, Y = rankY, cov = cov))\n",
    "}\n"
   ]
  },
  {
   "cell_type": "code",
   "execution_count": 2,
   "id": "efdefe06-64ac-4b88-b9e7-9f97405d4646",
   "metadata": {},
   "outputs": [
    {
     "data": {
      "text/html": [
       "<style>\n",
       ".list-inline {list-style: none; margin:0; padding: 0}\n",
       ".list-inline>li {display: inline-block}\n",
       ".list-inline>li:not(:last-child)::after {content: \"\\00b7\"; padding: 0 .5ex}\n",
       "</style>\n",
       "<ol class=list-inline><li>10000</li><li>1000</li></ol>\n"
      ],
      "text/latex": [
       "\\begin{enumerate*}\n",
       "\\item 10000\n",
       "\\item 1000\n",
       "\\end{enumerate*}\n"
      ],
      "text/markdown": [
       "1. 10000\n",
       "2. 1000\n",
       "\n",
       "\n"
      ],
      "text/plain": [
       "[1] 10000  1000"
      ]
     },
     "metadata": {},
     "output_type": "display_data"
    },
    {
     "data": {
      "text/html": [
       "<style>\n",
       ".list-inline {list-style: none; margin:0; padding: 0}\n",
       ".list-inline>li {display: inline-block}\n",
       ".list-inline>li:not(:last-child)::after {content: \"\\00b7\"; padding: 0 .5ex}\n",
       "</style>\n",
       "<ol class=list-inline><li>5000</li><li>1000</li></ol>\n"
      ],
      "text/latex": [
       "\\begin{enumerate*}\n",
       "\\item 5000\n",
       "\\item 1000\n",
       "\\end{enumerate*}\n"
      ],
      "text/markdown": [
       "1. 5000\n",
       "2. 1000\n",
       "\n",
       "\n"
      ],
      "text/plain": [
       "[1] 5000 1000"
      ]
     },
     "metadata": {},
     "output_type": "display_data"
    }
   ],
   "source": [
    "n_peaks <- 10000\n",
    "n_cells <- 1000\n",
    "X.dense <- replicate(n_cells, rbinom(n = n_peaks, size = 1, prob = 0.1))\n",
    "X.sparse <- Matrix::Matrix(X.dense, sparse = TRUE)\n",
    "\n",
    "\n",
    "n_peaks <- 5000\n",
    "n_cells <- 1000\n",
    "Y.dense <- replicate(n_cells, rbinom(n = n_peaks, size = 1, prob = 0.1))\n",
    "Y.sparse <- Matrix::Matrix(Y.dense, sparse = TRUE)\n",
    "\n",
    "dim(X.sparse)\n",
    "dim(Y.sparse)"
   ]
  },
  {
   "cell_type": "code",
   "execution_count": 3,
   "id": "9aa35f4e-816a-4bd6-8aa2-4b8279ec8d38",
   "metadata": {},
   "outputs": [
    {
     "data": {
      "text/plain": [
       "   user  system elapsed \n",
       " 53.345   0.582  54.747 "
      ]
     },
     "metadata": {},
     "output_type": "display_data"
    }
   ],
   "source": [
    "system.time(corXY.dense <- cor(as.matrix(Matrix::t(X.sparse)), as.matrix(Matrix::t(Y.sparse)), method = \"spearman\"))\n"
   ]
  },
  {
   "cell_type": "code",
   "execution_count": 4,
   "id": "7f090f0f-ad79-4945-a863-d5968121705c",
   "metadata": {},
   "outputs": [
    {
     "data": {
      "text/plain": [
       "   user  system elapsed \n",
       " 50.372  20.621  70.372 "
      ]
     },
     "metadata": {},
     "output_type": "display_data"
    }
   ],
   "source": [
    "# Uses loops. See: https://saket-choudhary.me/blog/2022/03/09/sparsespearman/\n",
    "\n",
    "system.time(corXY.sparse <- SparseSpearmanCor(Matrix::t(X.sparse), Matrix::t(Y.sparse)))\n"
   ]
  },
  {
   "cell_type": "code",
   "execution_count": 5,
   "id": "633a62c2-05ab-4b8b-bd86-e5fc40c60d9d",
   "metadata": {},
   "outputs": [
    {
     "data": {
      "text/plain": [
       "   user  system elapsed \n",
       "  5.995   0.848   4.324 "
      ]
     },
     "metadata": {},
     "output_type": "display_data"
    }
   ],
   "source": [
    "# Uses tricks to avoid loops. See: https://saket-choudhary.me/blog/2022/03/10/fast-sparsespearman/\n",
    "\n",
    "system.time(corXY.sparse2 <- SparseSpearmanCor2(Matrix::t(X.sparse), Matrix::t(Y.sparse)))\n"
   ]
  },
  {
   "cell_type": "code",
   "execution_count": 6,
   "id": "03ba2e9e-6648-448d-8be9-02e91e44a17e",
   "metadata": {},
   "outputs": [
    {
     "data": {
      "text/html": [
       "1.20809923561759e-15"
      ],
      "text/latex": [
       "1.20809923561759e-15"
      ],
      "text/markdown": [
       "1.20809923561759e-15"
      ],
      "text/plain": [
       "[1] 1.208099e-15"
      ]
     },
     "metadata": {},
     "output_type": "display_data"
    }
   ],
   "source": [
    "norm(corXY.dense - corXY.sparse, type = \"2\")\n"
   ]
  },
  {
   "cell_type": "code",
   "execution_count": 7,
   "id": "2672a65d-4730-4bf9-b70a-9da65b9a2876",
   "metadata": {},
   "outputs": [
    {
     "data": {
      "text/html": [
       "1.20809923561759e-15"
      ],
      "text/latex": [
       "1.20809923561759e-15"
      ],
      "text/markdown": [
       "1.20809923561759e-15"
      ],
      "text/plain": [
       "[1] 1.208099e-15"
      ]
     },
     "metadata": {},
     "output_type": "display_data"
    }
   ],
   "source": [
    "norm(corXY.dense - corXY.sparse2, type = \"2\")\n"
   ]
  },
  {
   "cell_type": "code",
   "execution_count": null,
   "id": "e139e24d-ac4b-4536-887d-f127dc1fde15",
   "metadata": {},
   "outputs": [],
   "source": []
  }
 ],
 "metadata": {
  "kernelspec": {
   "display_name": "R [conda env:r-sparse]",
   "language": "R",
   "name": "conda-env-r-sparse-r"
  },
  "language_info": {
   "codemirror_mode": "r",
   "file_extension": ".r",
   "mimetype": "text/x-r-source",
   "name": "R",
   "pygments_lexer": "r",
   "version": "4.1.2"
  }
 },
 "nbformat": 4,
 "nbformat_minor": 5
}
