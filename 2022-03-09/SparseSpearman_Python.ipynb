{
  "nbformat": 4,
  "nbformat_minor": 0,
  "metadata": {
    "colab": {
      "name": "SparseSpearman_Python.ipynb",
      "provenance": [],
      "collapsed_sections": [],
      "authorship_tag": "ABX9TyOnr/eJ7q1JTgFmla+9F376",
      "include_colab_link": true
    },
    "kernelspec": {
      "name": "python3",
      "display_name": "Python 3"
    },
    "language_info": {
      "name": "python"
    }
  },
  "cells": [
    {
      "cell_type": "markdown",
      "metadata": {
        "id": "view-in-github",
        "colab_type": "text"
      },
      "source": [
        "<a href=\"https://colab.research.google.com/github/saketkc/blog/blob/main/2022-03-09/SparseSpearman_Python.ipynb\" target=\"_parent\"><img src=\"https://colab.research.google.com/assets/colab-badge.svg\" alt=\"Open In Colab\"/></a>"
      ]
    },
    {
      "cell_type": "code",
      "execution_count": 1,
      "metadata": {
        "id": "9O4HXFiK_N06"
      },
      "outputs": [],
      "source": [
        "# Fast spearman correlations based on https://saket-choudhary.me/blog/2022/03/09/sparsespearman/\n",
        "import scipy.sparse as sparse\n",
        "import scipy.stats as stats\n",
        "from scipy.sparse import csc_matrix\n",
        "import numpy as np\n",
        "\n",
        "def cor_sparse_pearson(X, Y=None, cov=False):\n",
        "    if not sparse.issparse(X):\n",
        "      # should be CSC\n",
        "      X = csc_matrix(X)\n",
        "    nrows = X.shape[0]\n",
        "    meanX = X.mean(axis=0)\n",
        "    if Y is None:\n",
        "        covmat = X.T * X - nrows * meanX.T * meanX\n",
        "        covmat = covmat / (nrows - 1)\n",
        "        var = np.outer(np.diag(covmat), np.diag(covmat))\n",
        "        cormat = np.divide(covmat, np.sqrt(var))\n",
        "    else:\n",
        "        if X.shape[0] != Y.shape[0]:\n",
        "            raise RuntimeError(\"X and Y have different # of columns\")\n",
        "        if not sparse.issparse(Y):\n",
        "          Y = csc_matrix(Y)\n",
        "        meanY = Y.mean(axis=0)\n",
        "        covmat = X.T * Y - nrows * meanX.T * meanY\n",
        "        covmat = covmat / (nrows - 1)        \n",
        "        meanX2 = np.power(meanX, 2)\n",
        "        meanY2 = np.power(meanY, 2)\n",
        "        sdX = np.sqrt((X.power(2).sum(axis=0) - nrows * meanX2) / (nrows - 1))\n",
        "        sdY = np.sqrt((Y.power(2).sum(axis=0) - nrows * meanY2) / (nrows - 1))\n",
        "        cormat = covmat / (sdX.T * sdY)\n",
        "    if cov:\n",
        "        return covmat\n",
        "    return cormat\n",
        "\n",
        "\n",
        "def sparsify_ranks(X):\n",
        "    if not sparse.issparse(X):\n",
        "        # should be CSC\n",
        "        X = csc_matrix(X)\n",
        "\n",
        "    non_zeros_per_col = X.getnnz(axis=0)\n",
        "    n_zeros_per_col = X.shape[0] - non_zeros_per_col\n",
        "    offsets = (n_zeros_per_col - 1) / 2\n",
        "\n",
        "    x = X.data\n",
        "    nzdata = np.split(x, np.cumsum(non_zeros_per_col))[:-1]\n",
        "    for index, data in enumerate(nzdata):\n",
        "        nzdata[index] = offsets[index] + stats.rankdata(data)\n",
        "    X.data = np.concatenate(nzdata).ravel()\n",
        "    return X\n",
        "\n",
        "\n",
        "def cor_sparse_spearman(X, Y=None, cov=None):\n",
        "    rankX = sparsify_ranks(X)\n",
        "    if Y is None:\n",
        "        # Calculate pearson correlation on rank matrices\n",
        "        return cor_sparse_pearson(X=rankX, cov=cov)\n",
        "    rankY = sparsify_ranks(Y)\n",
        "    return cor_sparse_pearson(X=rankX, Y=rankY, cov=cov)\n",
        "\n",
        "\n",
        "def cor_dense_pearson(X, Y):\n",
        "  X = (X - X.mean(axis=0)) / X.std(axis=0)\n",
        "  Y = (Y - Y.mean(axis=0)) / Y.std(axis=0)\n",
        "  pearson_r = np.dot(X.T, Y) / X.shape[0]\n",
        "  return pearson_r"
      ]
    },
    {
      "cell_type": "code",
      "source": [
        "X = sparse.random(1000, 10000, density=0.1, format='csc')\n",
        "Y = sparse.random(1000, 5000, density=0.125, format='csc')"
      ],
      "metadata": {
        "id": "kxxgsqcRFyPI"
      },
      "execution_count": 2,
      "outputs": []
    },
    {
      "cell_type": "code",
      "source": [
        "%%timeit\n",
        "corXY_dense_pearson = cor_dense_pearson(X.todense(), Y.todense())"
      ],
      "metadata": {
        "colab": {
          "base_uri": "https://localhost:8080/"
        },
        "id": "K6gk0vjmIqN6",
        "outputId": "de375f81-b166-41c3-f8e9-392920dea83b"
      },
      "execution_count": 3,
      "outputs": [
        {
          "output_type": "stream",
          "name": "stdout",
          "text": [
            "1 loop, best of 5: 3.24 s per loop\n"
          ]
        }
      ]
    },
    {
      "cell_type": "code",
      "source": [
        "%%timeit\n",
        "corXY_sparse_pearson = cor_sparse_pearson(X, Y)"
      ],
      "metadata": {
        "colab": {
          "base_uri": "https://localhost:8080/"
        },
        "id": "gd-MYTyXFned",
        "outputId": "aba20d83-cf49-449d-d721-9750d20cdcd8"
      },
      "execution_count": 4,
      "outputs": [
        {
          "output_type": "stream",
          "name": "stdout",
          "text": [
            "1 loop, best of 5: 3.73 s per loop\n"
          ]
        }
      ]
    },
    {
      "cell_type": "code",
      "source": [
        "# check\n",
        "corXY_dense_pearson = cor_dense_pearson(X.todense(), Y.todense())\n",
        "corXY_sparse_pearson = cor_sparse_pearson(X, Y)\n",
        "\n",
        "np.allclose(corXY_sparse_pearson, corXY_dense_pearson)"
      ],
      "metadata": {
        "colab": {
          "base_uri": "https://localhost:8080/"
        },
        "id": "JzTp5lSqIsXo",
        "outputId": "878ab3dc-2197-4691-f8d1-76decc679b1b"
      },
      "execution_count": 5,
      "outputs": [
        {
          "output_type": "execute_result",
          "data": {
            "text/plain": [
              "True"
            ]
          },
          "metadata": {},
          "execution_count": 5
        }
      ]
    },
    {
      "cell_type": "code",
      "source": [
        "%%timeit\n",
        "X_ranks = np.apply_along_axis(stats.rankdata, axis=0, arr=X.todense())\n",
        "Y_ranks = np.apply_along_axis(stats.rankdata, axis=0, arr=Y.todense())\n",
        "corXY_dense_spearman =  cor_dense_pearson(X_ranks, Y_ranks)"
      ],
      "metadata": {
        "colab": {
          "base_uri": "https://localhost:8080/"
        },
        "id": "EW3OfN61F74j",
        "outputId": "7f8a80c1-5779-432a-9e7d-f60d06d5ce29"
      },
      "execution_count": 6,
      "outputs": [
        {
          "output_type": "stream",
          "name": "stdout",
          "text": [
            "1 loop, best of 5: 4.98 s per loop\n"
          ]
        }
      ]
    },
    {
      "cell_type": "code",
      "source": [
        "%%timeit\n",
        "corXY_sparse_spearman = cor_sparse_spearman(X, Y)"
      ],
      "metadata": {
        "colab": {
          "base_uri": "https://localhost:8080/"
        },
        "id": "zsyDX7DJIcO3",
        "outputId": "1189224e-c77b-4157-bcdc-fbd850f9544d"
      },
      "execution_count": 7,
      "outputs": [
        {
          "output_type": "stream",
          "name": "stdout",
          "text": [
            "1 loop, best of 5: 4.77 s per loop\n"
          ]
        }
      ]
    },
    {
      "cell_type": "code",
      "source": [
        "corXY_sparse_spearman.shape"
      ],
      "metadata": {
        "colab": {
          "base_uri": "https://localhost:8080/"
        },
        "id": "cWI_mjv8jl37",
        "outputId": "cf31bd2e-d7f6-4cb7-9e6f-50be0a6629e2"
      },
      "execution_count": 9,
      "outputs": [
        {
          "output_type": "execute_result",
          "data": {
            "text/plain": [
              "(10000, 5000)"
            ]
          },
          "metadata": {},
          "execution_count": 9
        }
      ]
    },
    {
      "cell_type": "code",
      "source": [
        "# check \n",
        "X_ranks = np.apply_along_axis(stats.rankdata, axis=0, arr=X.todense())\n",
        "Y_ranks = np.apply_along_axis(stats.rankdata, axis=0, arr=Y.todense())\n",
        "\n",
        "corXY_sparse_spearman = cor_sparse_spearman(X, Y)\n",
        "corXY_dense_spearman =  cor_dense_pearson(X_ranks, Y_ranks)\n",
        "\n",
        "np.allclose(corXY_sparse_spearman, corXY_dense_spearman)"
      ],
      "metadata": {
        "colab": {
          "base_uri": "https://localhost:8080/"
        },
        "id": "riwsRQdNIesn",
        "outputId": "b4b1da67-1b56-40fa-95bd-745ea61fac19"
      },
      "execution_count": 8,
      "outputs": [
        {
          "output_type": "execute_result",
          "data": {
            "text/plain": [
              "True"
            ]
          },
          "metadata": {},
          "execution_count": 8
        }
      ]
    }
  ]
}