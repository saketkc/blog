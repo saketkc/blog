{
 "cells": [
  {
   "cell_type": "code",
   "execution_count": 1,
   "id": "d61d8b27-4096-4618-bac1-76f57794aca8",
   "metadata": {},
   "outputs": [
    {
     "name": "stderr",
     "output_type": "stream",
     "text": [
      "Loading required package: slam\n",
      "\n",
      "Loading required package: sparsesvd\n",
      "\n"
     ]
    }
   ],
   "source": [
    "library(Matrix)\n",
    "library(qlcMatrix)\n",
    "set.seed(42)\n",
    "#' Replace non-zero entries in a sparse entries with non-zero ranks\n",
    "#'\n",
    "#' This method creates a rank matrix for a sparse matrix X using the following approach:\n",
    "#' 1. Use non-zero enries in a column to calculate the ranks\n",
    "#' 2. Add (z-1)/2 to the ranks (only non-zero entries are changed). z is the number of zeros\n",
    "#' in the column\n",
    "#' Since all the entries are shifted by the same constant (the zeros\n",
    "#' are already shifted), the covariance matrix of this shifted matrix is\n",
    "#' the same as the rank matrix of the entire matrix (where the zeros would\n",
    "#' all also have a rank = (z+1)/2) where z is the number of zeros\n",
    "#'\n",
    "#' This rank matrix can then be used to calculate pearson correlation\n",
    "#' (pearson correlation )\n",
    "SparsifiedRanks <- function(X){\n",
    "  X <- as(object = X, Class = \"dgCMatrix\")\n",
    "  j <- summary(object = X)$j\n",
    "  n_zeros_per_col <- nrow(X) - diff(X@p)\n",
    "  offsets <- (n_zeros_per_col - 1)/2\n",
    "\n",
    "  for (column in unique(x = j)){\n",
    "    non_zero_element_index <- which(j == column)\n",
    "    elements_along_row <- X@x[non_zero_element_index]\n",
    "    X@x[non_zero_element_index] <- rank(elements_along_row) + offsets[column]\n",
    "    #X@x[non_zero_element_index] <- frank(elements_along_row) + offsets[column]\n",
    "  }\n",
    "  return(X)\n",
    "}\n",
    "\n",
    "#' @importFrom qlcMatrix corSparse\n",
    "#'\n",
    "SparseSpearmanCor <- function(X, Y = NULL, cov = FALSE) {\n",
    "\n",
    "  # Get sparsified ranks\n",
    "  rankX <- SparsifiedRanks(X)\n",
    "  if (is.null(Y)){\n",
    "    # Calculate pearson correlation on rank matrices\n",
    "    return (corSparse(X=rankX, cov=cov))\n",
    "    }\n",
    "  rankY <- SparsifiedRanks(Y)\n",
    "  return(corSparse(X = rankX, Y = rankY, cov = cov))\n",
    "}"
   ]
  },
  {
   "cell_type": "code",
   "execution_count": 2,
   "id": "13d2aa17-7d89-478d-a0d0-d80f26012ca5",
   "metadata": {},
   "outputs": [
    {
     "data": {
      "text/plain": [
       "   user  system elapsed \n",
       "  3.229   0.064   3.314 "
      ]
     },
     "metadata": {},
     "output_type": "display_data"
    }
   ],
   "source": [
    "n_peaks <- 5000\n",
    "n_cells <- 1000\n",
    "\n",
    "# Create a sparse matrix, mostly 1s\n",
    "X.dense <- replicate(n_cells, rbinom(n = n_peaks, size = 1, prob = 0.1))\n",
    "X.sparse <- Matrix::Matrix(X.dense, sparse = TRUE)\n",
    "\n",
    "\n",
    "# do the densification inside\n",
    "system.time(corX.dense <- cor(as.matrix(X.sparse), method=\"spearman\"))\n"
   ]
  },
  {
   "cell_type": "code",
   "execution_count": 3,
   "id": "e3fdf58e-a6f1-400c-ab31-718c4aff56e5",
   "metadata": {},
   "outputs": [
    {
     "data": {
      "text/plain": [
       "   user  system elapsed \n",
       "  2.254   1.096   3.322 "
      ]
     },
     "metadata": {},
     "output_type": "display_data"
    }
   ],
   "source": [
    "system.time(corX.sparse <- SparseSpearmanCor(X.sparse))"
   ]
  },
  {
   "cell_type": "code",
   "execution_count": 4,
   "id": "b3da8ff3-8d2e-4981-b4bc-8102059be941",
   "metadata": {},
   "outputs": [
    {
     "data": {
      "text/html": [
       "2.25699824671474e-16"
      ],
      "text/latex": [
       "2.25699824671474e-16"
      ],
      "text/markdown": [
       "2.25699824671474e-16"
      ],
      "text/plain": [
       "[1] 2.256998e-16"
      ]
     },
     "metadata": {},
     "output_type": "display_data"
    }
   ],
   "source": [
    "norm(corX.dense - corX.sparse, type = \"2\")"
   ]
  },
  {
   "cell_type": "code",
   "execution_count": 5,
   "id": "aa04e214-d523-425e-873a-db838eb419bb",
   "metadata": {},
   "outputs": [
    {
     "data": {
      "text/plain": [
       "   user  system elapsed \n",
       " 82.993   0.955  85.764 "
      ]
     },
     "metadata": {},
     "output_type": "display_data"
    }
   ],
   "source": [
    "n_genes <- 15000\n",
    "n_cells <- 1000\n",
    "Y.dense <- replicate(n_cells, rbinom(n = n_genes, size = 1, prob = 0.15))\n",
    "Y.sparse <- Matrix::Matrix(Y.dense, sparse = TRUE)\n",
    "\n",
    "system.time(corXY.dense <- cor(as.matrix(t(X.sparse)), as.matrix(t(Y.sparse)), method=\"spearman\"))\n"
   ]
  },
  {
   "cell_type": "code",
   "execution_count": 6,
   "id": "e86c7b2a-5668-45fa-8bec-9144c2a18107",
   "metadata": {},
   "outputs": [
    {
     "data": {
      "text/plain": [
       "   user  system elapsed \n",
       "141.545  40.880 179.208 "
      ]
     },
     "metadata": {},
     "output_type": "display_data"
    }
   ],
   "source": [
    "system.time(corXY.sparse <- SparseSpearmanCor(t(X.sparse), t(Y.sparse)))\n"
   ]
  },
  {
   "cell_type": "code",
   "execution_count": 7,
   "id": "518d0365-0813-4570-b739-67f737e4c865",
   "metadata": {},
   "outputs": [
    {
     "data": {
      "text/html": [
       "1.51151280280696e-15"
      ],
      "text/latex": [
       "1.51151280280696e-15"
      ],
      "text/markdown": [
       "1.51151280280696e-15"
      ],
      "text/plain": [
       "[1] 1.511513e-15"
      ]
     },
     "metadata": {},
     "output_type": "display_data"
    }
   ],
   "source": [
    "norm(corXY.dense - corXY.sparse, type = \"2\")"
   ]
  }
 ],
 "metadata": {
  "kernelspec": {
   "display_name": "R [conda env:r-sparse]",
   "language": "R",
   "name": "conda-env-r-sparse-r"
  },
  "language_info": {
   "codemirror_mode": "r",
   "file_extension": ".r",
   "mimetype": "text/x-r-source",
   "name": "R",
   "pygments_lexer": "r",
   "version": "4.1.2"
  }
 },
 "nbformat": 4,
 "nbformat_minor": 5
}
